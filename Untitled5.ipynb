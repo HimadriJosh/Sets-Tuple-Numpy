{
 "cells": [
  {
   "cell_type": "code",
   "execution_count": 1,
   "id": "c91669b6",
   "metadata": {},
   "outputs": [
    {
     "data": {
      "text/plain": [
       "(25, 56, 78, 89, 34, 21, 'he', 44, 'she')"
      ]
     },
     "execution_count": 1,
     "metadata": {},
     "output_type": "execute_result"
    }
   ],
   "source": [
    "sampletuple=(25,56,78,89,34,21,'he',44,'she')\n",
    "sampletuple\n"
   ]
  },
  {
   "cell_type": "code",
   "execution_count": 20,
   "id": "18b9ed53",
   "metadata": {},
   "outputs": [
    {
     "data": {
      "text/plain": [
       "{21, 25, 34, 44, 56, 78, 89, 'he', 'she'}"
      ]
     },
     "execution_count": 20,
     "metadata": {},
     "output_type": "execute_result"
    }
   ],
   "source": [
    "sampleset={25,56,78,89,34,21,'he',44,'she'}\n",
    "sampleset"
   ]
  },
  {
   "cell_type": "code",
   "execution_count": 4,
   "id": "f5d12344",
   "metadata": {},
   "outputs": [],
   "source": [
    "import numpy as np"
   ]
  },
  {
   "cell_type": "code",
   "execution_count": 5,
   "id": "59328187",
   "metadata": {},
   "outputs": [
    {
     "data": {
      "text/plain": [
       "array({56, 93, 78}, dtype=object)"
      ]
     },
     "execution_count": 5,
     "metadata": {},
     "output_type": "execute_result"
    }
   ],
   "source": [
    "st=np.array({56,78,93})\n",
    "st"
   ]
  },
  {
   "cell_type": "code",
   "execution_count": 7,
   "id": "b099bfd8",
   "metadata": {},
   "outputs": [
    {
     "data": {
      "text/plain": [
       "array([ 5, 11, 17, 23, 29, 35, 41, 47, 53, 59, 65, 71, 77, 83])"
      ]
     },
     "execution_count": 7,
     "metadata": {},
     "output_type": "execute_result"
    }
   ],
   "source": [
    "np.arange(5,87,6)"
   ]
  },
  {
   "cell_type": "code",
   "execution_count": 8,
   "id": "44e08198",
   "metadata": {},
   "outputs": [
    {
     "data": {
      "text/plain": [
       "array([0, 0, 0, 0, 0, 0, 0])"
      ]
     },
     "execution_count": 8,
     "metadata": {},
     "output_type": "execute_result"
    }
   ],
   "source": [
    "np.zeros(7,int)"
   ]
  },
  {
   "cell_type": "code",
   "execution_count": 10,
   "id": "9cfc6aca",
   "metadata": {},
   "outputs": [
    {
     "data": {
      "text/plain": [
       "array([[1., 1., 1., 1., 1., 1., 1., 1., 1., 1.],\n",
       "       [1., 1., 1., 1., 1., 1., 1., 1., 1., 1.],\n",
       "       [1., 1., 1., 1., 1., 1., 1., 1., 1., 1.],\n",
       "       [1., 1., 1., 1., 1., 1., 1., 1., 1., 1.],\n",
       "       [1., 1., 1., 1., 1., 1., 1., 1., 1., 1.]])"
      ]
     },
     "execution_count": 10,
     "metadata": {},
     "output_type": "execute_result"
    }
   ],
   "source": [
    "np.ones((5,10))"
   ]
  },
  {
   "cell_type": "code",
   "execution_count": 11,
   "id": "ae40b336",
   "metadata": {},
   "outputs": [
    {
     "data": {
      "text/plain": [
       "array([1, 1, 1, 1, 1])"
      ]
     },
     "execution_count": 11,
     "metadata": {},
     "output_type": "execute_result"
    }
   ],
   "source": [
    "np.ones(5,int)"
   ]
  },
  {
   "cell_type": "code",
   "execution_count": 12,
   "id": "70bfc93d",
   "metadata": {},
   "outputs": [
    {
     "data": {
      "text/plain": [
       "array([0.  , 0.25, 0.5 , 0.75, 1.  ])"
      ]
     },
     "execution_count": 12,
     "metadata": {},
     "output_type": "execute_result"
    }
   ],
   "source": [
    "np.linspace(0,1,5)"
   ]
  },
  {
   "cell_type": "code",
   "execution_count": 13,
   "id": "894f1314",
   "metadata": {},
   "outputs": [
    {
     "data": {
      "text/plain": [
       "array([[1, 0, 0, 0, 0],\n",
       "       [0, 1, 0, 0, 0],\n",
       "       [0, 0, 1, 0, 0],\n",
       "       [0, 0, 0, 1, 0],\n",
       "       [0, 0, 0, 0, 1]])"
      ]
     },
     "execution_count": 13,
     "metadata": {},
     "output_type": "execute_result"
    }
   ],
   "source": [
    "np.eye(5,dtype=int)"
   ]
  },
  {
   "cell_type": "code",
   "execution_count": 14,
   "id": "d1b1bf99",
   "metadata": {},
   "outputs": [
    {
     "data": {
      "text/plain": [
       "array([[0.02341642, 0.99398409, 0.38894066, 0.6003434 , 0.1519387 ,\n",
       "        0.07500201, 0.98814337, 0.56677588, 0.74021686, 0.19527849],\n",
       "       [0.03669383, 0.64017087, 0.46634471, 0.2993707 , 0.51702649,\n",
       "        0.57357004, 0.82775934, 0.6590283 , 0.15847651, 0.19683846],\n",
       "       [0.17084519, 0.81027827, 0.77326094, 0.60742548, 0.56597372,\n",
       "        0.83868634, 0.85771601, 0.11474285, 0.55807   , 0.8749106 ],\n",
       "       [0.15932722, 0.39909814, 0.12666026, 0.42486537, 0.28398973,\n",
       "        0.85199569, 0.39571689, 0.51227844, 0.43696762, 0.39004601],\n",
       "       [0.36700782, 0.80874421, 0.4494171 , 0.61651223, 0.46580423,\n",
       "        0.07177834, 0.29801377, 0.84646352, 0.41724149, 0.19305049]])"
      ]
     },
     "execution_count": 14,
     "metadata": {},
     "output_type": "execute_result"
    }
   ],
   "source": [
    "np.random.rand(5,10)"
   ]
  },
  {
   "cell_type": "code",
   "execution_count": 15,
   "id": "b6ce1d35",
   "metadata": {},
   "outputs": [
    {
     "data": {
      "text/plain": [
       "array([[-0.7914289 , -0.2149544 ,  0.21963614, -1.8421117 ],\n",
       "       [ 0.43575338, -0.62186084, -0.74254825,  0.14056242]])"
      ]
     },
     "execution_count": 15,
     "metadata": {},
     "output_type": "execute_result"
    }
   ],
   "source": [
    "np.random.randn(2,4)"
   ]
  },
  {
   "cell_type": "code",
   "execution_count": 19,
   "id": "2059a515",
   "metadata": {},
   "outputs": [
    {
     "data": {
      "text/plain": [
       "21"
      ]
     },
     "execution_count": 19,
     "metadata": {},
     "output_type": "execute_result"
    }
   ],
   "source": [
    "np.random.randint(2,50)"
   ]
  },
  {
   "cell_type": "code",
   "execution_count": null,
   "id": "64236db7",
   "metadata": {},
   "outputs": [],
   "source": []
  }
 ],
 "metadata": {
  "kernelspec": {
   "display_name": "Python 3 (ipykernel)",
   "language": "python",
   "name": "python3"
  },
  "language_info": {
   "codemirror_mode": {
    "name": "ipython",
    "version": 3
   },
   "file_extension": ".py",
   "mimetype": "text/x-python",
   "name": "python",
   "nbconvert_exporter": "python",
   "pygments_lexer": "ipython3",
   "version": "3.9.12"
  }
 },
 "nbformat": 4,
 "nbformat_minor": 5
}
